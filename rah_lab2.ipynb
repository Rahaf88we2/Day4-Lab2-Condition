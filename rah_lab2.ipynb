{
 "cells": [
  {
   "cell_type": "code",
   "execution_count": null,
   "id": "2d5cf57a-743c-4d59-98d7-52469f07b450",
   "metadata": {},
   "outputs": [],
   "source": [
    "movie = \"Rahaf movie\"\n",
    "rate_movie = 3\n",
    "popularity_score =72.65\n"
   ]
  },
  {
   "cell_type": "code",
   "execution_count": 9,
   "id": "0b395271-a8ad-47ca-a698-2973a90b1fc6",
   "metadata": {},
   "outputs": [
    {
     "name": "stdout",
     "output_type": "stream",
     "text": [
      "I recommended, good\n"
     ]
    }
   ],
   "source": [
    "rate_movie = 3\n",
    "popularity_score =72.65\n",
    "if rate_movie >= 4 and popularity_score > 80:\n",
    "    print(\"Highly recommended\")\n",
    "elif rate_movie >= 3 and popularity_score > 70:\n",
    "    print (\"I recommended,  it is good\")\n",
    "elif rate_movie <=2 and popularity_score < 60:\n",
    "    print (\"You should check it out!\")\n",
    "elif rate_movie <=2 and popularity_score < 50 :\n",
    "    print (\"Dont watchit, it is a waste of time\")\n",
    "    "
   ]
  },
  {
   "cell_type": "code",
   "execution_count": null,
   "id": "4e5b97c0-6cb0-484d-88c8-a3b4a52e584c",
   "metadata": {},
   "outputs": [],
   "source": []
  },
  {
   "cell_type": "code",
   "execution_count": null,
   "id": "49362d00-5594-419a-b107-edf8a3dd91a0",
   "metadata": {},
   "outputs": [],
   "source": []
  }
 ],
 "metadata": {
  "kernelspec": {
   "display_name": "Python 3 (ipykernel)",
   "language": "python",
   "name": "python3"
  },
  "language_info": {
   "codemirror_mode": {
    "name": "ipython",
    "version": 3
   },
   "file_extension": ".py",
   "mimetype": "text/x-python",
   "name": "python",
   "nbconvert_exporter": "python",
   "pygments_lexer": "ipython3",
   "version": "3.9.13"
  }
 },
 "nbformat": 4,
 "nbformat_minor": 5
}
